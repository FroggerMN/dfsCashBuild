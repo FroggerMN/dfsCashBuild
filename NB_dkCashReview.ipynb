{
 "cells": [
  {
   "cell_type": "markdown",
   "id": "f83f6f86",
   "metadata": {},
   "source": [
    "**Objective**: Analyze DraftKings DFS contest data to predict successful lineups for cash games (top 50%).\n"
   ]
  },
  {
   "cell_type": "code",
   "execution_count": 1,
   "id": "027527f1",
   "metadata": {},
   "outputs": [],
   "source": [
    "import pandas as pd\n",
    "import numpy as np\n",
    "from utils.draftkingsCashReview import load_split_dk_results, load_player_data, add_lineup_features, calculate_lineup_rating, normalize_features\n",
    "\n"
   ]
  },
  {
   "cell_type": "markdown",
   "id": "a81f3a83",
   "metadata": {},
   "source": [
    "**Input Data**:\n",
    "1. `contest-standings.csv` load csv and split at column 6 into 2 df\n",
    "2. `entries_df` (contest results):  \n",
    "   Columns: `Rank`, `EntryId`, `EntryName`, `TimeRemaining`, `Points`, `Lineup`, `cash_win`, `cash_result`.\n",
    "3. `player_results_df` (player projections):  \n",
    "   Columns: `Player`, `RosterPosition`, `%Drafted`, `FPTS`, `teamabbrev`, `avgpointspergame`, `projpts`, `projown`, `salary`.\n",
    "\n",
    "**Steps to Execute**:\n",
    "1. **[Data Prep]**:  \n",
    "   - Clean `Player` strings in both DataFrames.  \n",
    "   - Parse `Lineup` strings into individual player lists.  \n",
    "   - Compute new features per lineup (stacks, value exposure, etc.).\n"
   ]
  },
  {
   "cell_type": "code",
   "execution_count": 2,
   "id": "d87f8414",
   "metadata": {},
   "outputs": [
    {
     "data": {
      "application/vnd.microsoft.datawrangler.viewer.v0+json": {
       "columns": [
        {
         "name": "index",
         "rawType": "int64",
         "type": "integer"
        },
        {
         "name": "Player",
         "rawType": "object",
         "type": "string"
        },
        {
         "name": "Roster Position",
         "rawType": "object",
         "type": "string"
        },
        {
         "name": "%Drafted",
         "rawType": "object",
         "type": "string"
        },
        {
         "name": "FPTS",
         "rawType": "float64",
         "type": "float"
        },
        {
         "name": "position",
         "rawType": "object",
         "type": "string"
        },
        {
         "name": "name + id",
         "rawType": "object",
         "type": "string"
        },
        {
         "name": "name",
         "rawType": "object",
         "type": "string"
        },
        {
         "name": "id",
         "rawType": "float64",
         "type": "float"
        },
        {
         "name": "roster position",
         "rawType": "object",
         "type": "string"
        },
        {
         "name": "salary",
         "rawType": "float64",
         "type": "float"
        },
        {
         "name": "game info",
         "rawType": "object",
         "type": "string"
        },
        {
         "name": "teamabbrev",
         "rawType": "object",
         "type": "string"
        },
        {
         "name": "avgpointspergame",
         "rawType": "float64",
         "type": "float"
        },
        {
         "name": "team",
         "rawType": "object",
         "type": "string"
        },
        {
         "name": "projpts",
         "rawType": "float64",
         "type": "float"
        },
        {
         "name": "projown",
         "rawType": "float64",
         "type": "float"
        }
       ],
       "ref": "96cd43eb-c3b7-43e5-b61b-ac27c3c1417e",
       "rows": [
        [
         "0",
         "Christian McCaffrey",
         "RB",
         "72.56%",
         "22.7",
         "RB",
         "Christian McCaffrey (39971377)",
         "Christian McCaffrey",
         "39971377.0",
         "RB/FLEX",
         "7500.0",
         "SF@NO 09/14/2025 01:00PM ET",
         "SF",
         "23.2",
         "49ers",
         "19.5",
         "34.7"
        ],
        [
         "1",
         "Hollywood Brown",
         "WR",
         "52.76%",
         "8.0",
         "WR",
         "Hollywood Brown (39971707)",
         "Hollywood Brown",
         "39971707.0",
         "WR/FLEX",
         "5200.0",
         "PHI@KC 09/14/2025 04:25PM ET",
         "KC",
         "19.9",
         "Chiefs",
         "14.0",
         "15.7"
        ],
        [
         "2",
         "Harold Fannin Jr.",
         "TE",
         "50.17%",
         "9.8",
         "TE",
         "Harold Fannin Jr. (39972149)",
         "Harold Fannin Jr.",
         "39972149.0",
         "TE/FLEX",
         "3100.0",
         "CLE@BAL 09/14/2025 01:00PM ET",
         "CLE",
         "13.6",
         "Browns",
         "9.6",
         "13.3"
        ]
       ],
       "shape": {
        "columns": 16,
        "rows": 3
       }
      },
      "text/html": [
       "<div>\n",
       "<style scoped>\n",
       "    .dataframe tbody tr th:only-of-type {\n",
       "        vertical-align: middle;\n",
       "    }\n",
       "\n",
       "    .dataframe tbody tr th {\n",
       "        vertical-align: top;\n",
       "    }\n",
       "\n",
       "    .dataframe thead th {\n",
       "        text-align: right;\n",
       "    }\n",
       "</style>\n",
       "<table border=\"1\" class=\"dataframe\">\n",
       "  <thead>\n",
       "    <tr style=\"text-align: right;\">\n",
       "      <th></th>\n",
       "      <th>Player</th>\n",
       "      <th>Roster Position</th>\n",
       "      <th>%Drafted</th>\n",
       "      <th>FPTS</th>\n",
       "      <th>position</th>\n",
       "      <th>name + id</th>\n",
       "      <th>name</th>\n",
       "      <th>id</th>\n",
       "      <th>roster position</th>\n",
       "      <th>salary</th>\n",
       "      <th>game info</th>\n",
       "      <th>teamabbrev</th>\n",
       "      <th>avgpointspergame</th>\n",
       "      <th>team</th>\n",
       "      <th>projpts</th>\n",
       "      <th>projown</th>\n",
       "    </tr>\n",
       "  </thead>\n",
       "  <tbody>\n",
       "    <tr>\n",
       "      <th>0</th>\n",
       "      <td>Christian McCaffrey</td>\n",
       "      <td>RB</td>\n",
       "      <td>72.56%</td>\n",
       "      <td>22.7</td>\n",
       "      <td>RB</td>\n",
       "      <td>Christian McCaffrey (39971377)</td>\n",
       "      <td>Christian McCaffrey</td>\n",
       "      <td>39971377.0</td>\n",
       "      <td>RB/FLEX</td>\n",
       "      <td>7500.0</td>\n",
       "      <td>SF@NO 09/14/2025 01:00PM ET</td>\n",
       "      <td>SF</td>\n",
       "      <td>23.2</td>\n",
       "      <td>49ers</td>\n",
       "      <td>19.5</td>\n",
       "      <td>34.7</td>\n",
       "    </tr>\n",
       "    <tr>\n",
       "      <th>1</th>\n",
       "      <td>Hollywood Brown</td>\n",
       "      <td>WR</td>\n",
       "      <td>52.76%</td>\n",
       "      <td>8.0</td>\n",
       "      <td>WR</td>\n",
       "      <td>Hollywood Brown (39971707)</td>\n",
       "      <td>Hollywood Brown</td>\n",
       "      <td>39971707.0</td>\n",
       "      <td>WR/FLEX</td>\n",
       "      <td>5200.0</td>\n",
       "      <td>PHI@KC 09/14/2025 04:25PM ET</td>\n",
       "      <td>KC</td>\n",
       "      <td>19.9</td>\n",
       "      <td>Chiefs</td>\n",
       "      <td>14.0</td>\n",
       "      <td>15.7</td>\n",
       "    </tr>\n",
       "    <tr>\n",
       "      <th>2</th>\n",
       "      <td>Harold Fannin Jr.</td>\n",
       "      <td>TE</td>\n",
       "      <td>50.17%</td>\n",
       "      <td>9.8</td>\n",
       "      <td>TE</td>\n",
       "      <td>Harold Fannin Jr. (39972149)</td>\n",
       "      <td>Harold Fannin Jr.</td>\n",
       "      <td>39972149.0</td>\n",
       "      <td>TE/FLEX</td>\n",
       "      <td>3100.0</td>\n",
       "      <td>CLE@BAL 09/14/2025 01:00PM ET</td>\n",
       "      <td>CLE</td>\n",
       "      <td>13.6</td>\n",
       "      <td>Browns</td>\n",
       "      <td>9.6</td>\n",
       "      <td>13.3</td>\n",
       "    </tr>\n",
       "  </tbody>\n",
       "</table>\n",
       "</div>"
      ],
      "text/plain": [
       "                Player Roster Position %Drafted  FPTS position  \\\n",
       "0  Christian McCaffrey              RB   72.56%  22.7       RB   \n",
       "1      Hollywood Brown              WR   52.76%   8.0       WR   \n",
       "2    Harold Fannin Jr.              TE   50.17%   9.8       TE   \n",
       "\n",
       "                        name + id                 name          id  \\\n",
       "0  Christian McCaffrey (39971377)  Christian McCaffrey  39971377.0   \n",
       "1      Hollywood Brown (39971707)      Hollywood Brown  39971707.0   \n",
       "2    Harold Fannin Jr. (39972149)    Harold Fannin Jr.  39972149.0   \n",
       "\n",
       "  roster position  salary                      game info teamabbrev  \\\n",
       "0         RB/FLEX  7500.0    SF@NO 09/14/2025 01:00PM ET         SF   \n",
       "1         WR/FLEX  5200.0   PHI@KC 09/14/2025 04:25PM ET         KC   \n",
       "2         TE/FLEX  3100.0  CLE@BAL 09/14/2025 01:00PM ET        CLE   \n",
       "\n",
       "   avgpointspergame    team  projpts  projown  \n",
       "0              23.2   49ers     19.5     34.7  \n",
       "1              19.9  Chiefs     14.0     15.7  \n",
       "2              13.6  Browns      9.6     13.3  "
      ]
     },
     "execution_count": 2,
     "metadata": {},
     "output_type": "execute_result"
    }
   ],
   "source": [
    "# Load the data\n",
    "week = 'week02'\n",
    "results_file_name = 'contest-standings.csv'\n",
    "playerpool_df, entries_df = load_split_dk_results(week)\n",
    "player_results_df = load_player_data(week, playerpool_df)\n",
    "\n",
    "player_results_df.head(3)  "
   ]
  },
  {
   "cell_type": "code",
   "execution_count": 4,
   "id": "dfc6f760",
   "metadata": {},
   "outputs": [
    {
     "data": {
      "application/vnd.microsoft.datawrangler.viewer.v0+json": {
       "columns": [
        {
         "name": "index",
         "rawType": "int64",
         "type": "integer"
        },
        {
         "name": "Rank",
         "rawType": "int64",
         "type": "integer"
        },
        {
         "name": "EntryId",
         "rawType": "int64",
         "type": "integer"
        },
        {
         "name": "EntryName",
         "rawType": "object",
         "type": "string"
        },
        {
         "name": "TimeRemaining",
         "rawType": "int64",
         "type": "integer"
        },
        {
         "name": "Points",
         "rawType": "float64",
         "type": "float"
        },
        {
         "name": "Lineup",
         "rawType": "object",
         "type": "string"
        }
       ],
       "ref": "3ea4447f-f8f8-41db-9e79-e8d5bc19efad",
       "rows": [
        [
         "0",
         "1",
         "4852565135",
         "calebzsnyder",
         "0",
         "206.86002",
         "DST Ravens  FLEX George Pickens QB Jared Goff RB Christian McCaffrey RB Breece Hall TE Harold Fannin Jr. WR Amon-Ra St. Brown WR Jameson Williams WR Rome Odunze"
        ],
        [
         "1",
         "2",
         "4852356677",
         "trh1010",
         "0",
         "204.36002",
         "DST Colts  FLEX Ja'Marr Chase QB Mac Jones RB Christian McCaffrey RB Javonte Williams TE Harold Fannin Jr. WR CeeDee Lamb WR Davante Adams WR Rome Odunze"
        ],
        [
         "2",
         "3",
         "4853930626",
         "mbhurls",
         "0",
         "200.76",
         "DST Cowboys  FLEX De'Von Achane QB Jared Goff RB Jahmyr Gibbs RB James Cook TE Harold Fannin Jr. WR Amon-Ra St. Brown WR Jaxon Smith-Njigba WR DeAndre Hopkins"
        ]
       ],
       "shape": {
        "columns": 6,
        "rows": 3
       }
      },
      "text/html": [
       "<div>\n",
       "<style scoped>\n",
       "    .dataframe tbody tr th:only-of-type {\n",
       "        vertical-align: middle;\n",
       "    }\n",
       "\n",
       "    .dataframe tbody tr th {\n",
       "        vertical-align: top;\n",
       "    }\n",
       "\n",
       "    .dataframe thead th {\n",
       "        text-align: right;\n",
       "    }\n",
       "</style>\n",
       "<table border=\"1\" class=\"dataframe\">\n",
       "  <thead>\n",
       "    <tr style=\"text-align: right;\">\n",
       "      <th></th>\n",
       "      <th>Rank</th>\n",
       "      <th>EntryId</th>\n",
       "      <th>EntryName</th>\n",
       "      <th>TimeRemaining</th>\n",
       "      <th>Points</th>\n",
       "      <th>Lineup</th>\n",
       "    </tr>\n",
       "  </thead>\n",
       "  <tbody>\n",
       "    <tr>\n",
       "      <th>0</th>\n",
       "      <td>1</td>\n",
       "      <td>4852565135</td>\n",
       "      <td>calebzsnyder</td>\n",
       "      <td>0</td>\n",
       "      <td>206.86002</td>\n",
       "      <td>DST Ravens  FLEX George Pickens QB Jared Goff ...</td>\n",
       "    </tr>\n",
       "    <tr>\n",
       "      <th>1</th>\n",
       "      <td>2</td>\n",
       "      <td>4852356677</td>\n",
       "      <td>trh1010</td>\n",
       "      <td>0</td>\n",
       "      <td>204.36002</td>\n",
       "      <td>DST Colts  FLEX Ja'Marr Chase QB Mac Jones RB ...</td>\n",
       "    </tr>\n",
       "    <tr>\n",
       "      <th>2</th>\n",
       "      <td>3</td>\n",
       "      <td>4853930626</td>\n",
       "      <td>mbhurls</td>\n",
       "      <td>0</td>\n",
       "      <td>200.76000</td>\n",
       "      <td>DST Cowboys  FLEX De'Von Achane QB Jared Goff ...</td>\n",
       "    </tr>\n",
       "  </tbody>\n",
       "</table>\n",
       "</div>"
      ],
      "text/plain": [
       "   Rank     EntryId     EntryName  TimeRemaining     Points  \\\n",
       "0     1  4852565135  calebzsnyder              0  206.86002   \n",
       "1     2  4852356677       trh1010              0  204.36002   \n",
       "2     3  4853930626       mbhurls              0  200.76000   \n",
       "\n",
       "                                              Lineup  \n",
       "0  DST Ravens  FLEX George Pickens QB Jared Goff ...  \n",
       "1  DST Colts  FLEX Ja'Marr Chase QB Mac Jones RB ...  \n",
       "2  DST Cowboys  FLEX De'Von Achane QB Jared Goff ...  "
      ]
     },
     "execution_count": 4,
     "metadata": {},
     "output_type": "execute_result"
    }
   ],
   "source": [
    "entries_df.head(3)"
   ]
  },
  {
   "cell_type": "markdown",
   "id": "cbfb579a",
   "metadata": {},
   "source": [
    "\n",
    "2. **[Feature Engineering]**:  \n",
    "   - Expand lineup\n",
    "   - For each lineup, create features like:  \n",
    "     - `sum_projpts`, `sum_projown`  \n",
    "     - `num_stacks`, `num_value_players` (projown < 20%)  \n",
    "     - `avg_floor` (using avgpointspergame)  \n",
    "     - `qb_wr_stacks`  \n",
    "     - `num_chalk_players` (projown > 60%)  \n",
    "   - Export to `training_data.csv`.\n"
   ]
  },
  {
   "cell_type": "code",
   "execution_count": null,
   "id": "3a8c6dd8",
   "metadata": {},
   "outputs": [],
   "source": []
  },
  {
   "cell_type": "code",
   "execution_count": 5,
   "id": "a935f204",
   "metadata": {},
   "outputs": [],
   "source": [
    "player_results_df = add_lineup_features(entries_df, player_results_df)"
   ]
  },
  {
   "cell_type": "code",
   "execution_count": 7,
   "id": "90fd4169",
   "metadata": {},
   "outputs": [
    {
     "data": {
      "text/plain": [
       "Index(['Rank', 'EntryId', 'EntryName', 'TimeRemaining', 'Points', 'Lineup', 0], dtype='object')"
      ]
     },
     "execution_count": 7,
     "metadata": {},
     "output_type": "execute_result"
    }
   ],
   "source": [
    "player_results_df.columns"
   ]
  },
  {
   "cell_type": "code",
   "execution_count": null,
   "id": "ece63539",
   "metadata": {},
   "outputs": [
    {
     "data": {
      "application/vnd.microsoft.datawrangler.viewer.v0+json": {
       "columns": [
        {
         "name": "index",
         "rawType": "int64",
         "type": "integer"
        },
        {
         "name": "Player",
         "rawType": "object",
         "type": "string"
        },
        {
         "name": "Roster Position",
         "rawType": "object",
         "type": "string"
        },
        {
         "name": "%Drafted",
         "rawType": "object",
         "type": "string"
        },
        {
         "name": "FPTS",
         "rawType": "float64",
         "type": "float"
        },
        {
         "name": "position",
         "rawType": "object",
         "type": "string"
        },
        {
         "name": "name + id",
         "rawType": "object",
         "type": "string"
        },
        {
         "name": "name",
         "rawType": "object",
         "type": "string"
        },
        {
         "name": "id",
         "rawType": "float64",
         "type": "float"
        },
        {
         "name": "roster position",
         "rawType": "object",
         "type": "string"
        },
        {
         "name": "salary",
         "rawType": "float64",
         "type": "float"
        },
        {
         "name": "game info",
         "rawType": "object",
         "type": "string"
        },
        {
         "name": "teamabbrev",
         "rawType": "object",
         "type": "string"
        },
        {
         "name": "avgpointspergame",
         "rawType": "float64",
         "type": "float"
        },
        {
         "name": "team",
         "rawType": "object",
         "type": "string"
        },
        {
         "name": "projpts",
         "rawType": "float64",
         "type": "float"
        },
        {
         "name": "projown",
         "rawType": "float64",
         "type": "float"
        }
       ],
       "ref": "a4660628-a419-410d-b675-3dc0ad076709",
       "rows": [
        [
         "0",
         "Christian McCaffrey",
         "RB",
         "72.56%",
         "22.7",
         "RB",
         "Christian McCaffrey (39971377)",
         "Christian McCaffrey",
         "39971377.0",
         "RB/FLEX",
         "7500.0",
         "SF@NO 09/14/2025 01:00PM ET",
         "SF",
         "23.2",
         "49ers",
         "1.8819230649982939",
         "6.232744368208733"
        ],
        [
         "1",
         "Hollywood Brown",
         "WR",
         "52.76%",
         "8.0",
         "WR",
         "Hollywood Brown (39971707)",
         "Hollywood Brown",
         "39971707.0",
         "WR/FLEX",
         "5200.0",
         "PHI@KC 09/14/2025 04:25PM ET",
         "KC",
         "19.9",
         "Chiefs",
         "0.8193367723424522",
         "2.4030318908881454"
        ],
        [
         "2",
         "Harold Fannin Jr.",
         "TE",
         "50.17%",
         "9.8",
         "TE",
         "Harold Fannin Jr. (39972149)",
         "Harold Fannin Jr.",
         "39972149.0",
         "TE/FLEX",
         "3100.0",
         "CLE@BAL 09/14/2025 01:00PM ET",
         "CLE",
         "13.6",
         "Browns",
         "-0.030732261782221344",
         "1.9192787358581767"
        ]
       ],
       "shape": {
        "columns": 16,
        "rows": 3
       }
      },
      "text/html": [
       "<div>\n",
       "<style scoped>\n",
       "    .dataframe tbody tr th:only-of-type {\n",
       "        vertical-align: middle;\n",
       "    }\n",
       "\n",
       "    .dataframe tbody tr th {\n",
       "        vertical-align: top;\n",
       "    }\n",
       "\n",
       "    .dataframe thead th {\n",
       "        text-align: right;\n",
       "    }\n",
       "</style>\n",
       "<table border=\"1\" class=\"dataframe\">\n",
       "  <thead>\n",
       "    <tr style=\"text-align: right;\">\n",
       "      <th></th>\n",
       "      <th>Player</th>\n",
       "      <th>Roster Position</th>\n",
       "      <th>%Drafted</th>\n",
       "      <th>FPTS</th>\n",
       "      <th>position</th>\n",
       "      <th>name + id</th>\n",
       "      <th>name</th>\n",
       "      <th>id</th>\n",
       "      <th>roster position</th>\n",
       "      <th>salary</th>\n",
       "      <th>game info</th>\n",
       "      <th>teamabbrev</th>\n",
       "      <th>avgpointspergame</th>\n",
       "      <th>team</th>\n",
       "      <th>projpts</th>\n",
       "      <th>projown</th>\n",
       "    </tr>\n",
       "  </thead>\n",
       "  <tbody>\n",
       "    <tr>\n",
       "      <th>0</th>\n",
       "      <td>Christian McCaffrey</td>\n",
       "      <td>RB</td>\n",
       "      <td>72.56%</td>\n",
       "      <td>22.7</td>\n",
       "      <td>RB</td>\n",
       "      <td>Christian McCaffrey (39971377)</td>\n",
       "      <td>Christian McCaffrey</td>\n",
       "      <td>39971377.0</td>\n",
       "      <td>RB/FLEX</td>\n",
       "      <td>7500.0</td>\n",
       "      <td>SF@NO 09/14/2025 01:00PM ET</td>\n",
       "      <td>SF</td>\n",
       "      <td>23.2</td>\n",
       "      <td>49ers</td>\n",
       "      <td>1.881923</td>\n",
       "      <td>6.232744</td>\n",
       "    </tr>\n",
       "    <tr>\n",
       "      <th>1</th>\n",
       "      <td>Hollywood Brown</td>\n",
       "      <td>WR</td>\n",
       "      <td>52.76%</td>\n",
       "      <td>8.0</td>\n",
       "      <td>WR</td>\n",
       "      <td>Hollywood Brown (39971707)</td>\n",
       "      <td>Hollywood Brown</td>\n",
       "      <td>39971707.0</td>\n",
       "      <td>WR/FLEX</td>\n",
       "      <td>5200.0</td>\n",
       "      <td>PHI@KC 09/14/2025 04:25PM ET</td>\n",
       "      <td>KC</td>\n",
       "      <td>19.9</td>\n",
       "      <td>Chiefs</td>\n",
       "      <td>0.819337</td>\n",
       "      <td>2.403032</td>\n",
       "    </tr>\n",
       "    <tr>\n",
       "      <th>2</th>\n",
       "      <td>Harold Fannin Jr.</td>\n",
       "      <td>TE</td>\n",
       "      <td>50.17%</td>\n",
       "      <td>9.8</td>\n",
       "      <td>TE</td>\n",
       "      <td>Harold Fannin Jr. (39972149)</td>\n",
       "      <td>Harold Fannin Jr.</td>\n",
       "      <td>39972149.0</td>\n",
       "      <td>TE/FLEX</td>\n",
       "      <td>3100.0</td>\n",
       "      <td>CLE@BAL 09/14/2025 01:00PM ET</td>\n",
       "      <td>CLE</td>\n",
       "      <td>13.6</td>\n",
       "      <td>Browns</td>\n",
       "      <td>-0.030732</td>\n",
       "      <td>1.919279</td>\n",
       "    </tr>\n",
       "  </tbody>\n",
       "</table>\n",
       "</div>"
      ],
      "text/plain": [
       "                Player Roster Position %Drafted  FPTS position  \\\n",
       "0  Christian McCaffrey              RB   72.56%  22.7       RB   \n",
       "1      Hollywood Brown              WR   52.76%   8.0       WR   \n",
       "2    Harold Fannin Jr.              TE   50.17%   9.8       TE   \n",
       "\n",
       "                        name + id                 name          id  \\\n",
       "0  Christian McCaffrey (39971377)  Christian McCaffrey  39971377.0   \n",
       "1      Hollywood Brown (39971707)      Hollywood Brown  39971707.0   \n",
       "2    Harold Fannin Jr. (39972149)    Harold Fannin Jr.  39972149.0   \n",
       "\n",
       "  roster position  salary                      game info teamabbrev  \\\n",
       "0         RB/FLEX  7500.0    SF@NO 09/14/2025 01:00PM ET         SF   \n",
       "1         WR/FLEX  5200.0   PHI@KC 09/14/2025 04:25PM ET         KC   \n",
       "2         TE/FLEX  3100.0  CLE@BAL 09/14/2025 01:00PM ET        CLE   \n",
       "\n",
       "   avgpointspergame    team   projpts   projown  \n",
       "0              23.2   49ers  1.881923  6.232744  \n",
       "1              19.9  Chiefs  0.819337  2.403032  \n",
       "2              13.6  Browns -0.030732  1.919279  "
      ]
     },
     "execution_count": 14,
     "metadata": {},
     "output_type": "execute_result"
    }
   ],
   "source": [
    "player_results_df = normalize_features(player_results_df, ['projown', 'projpts,])\n",
    "player_results_df.head(3)"
   ]
  },
  {
   "cell_type": "markdown",
   "id": "bc12a15e",
   "metadata": {},
   "source": [
    "\n",
    "3. **[Model Training]**:  \n",
    "   - **Regression**:  \n",
    "     Train `LinearRegression` to predict `Points` from lineup features.  \n",
    "     - Save coefficients as `reg_weights.csv`.  \n",
    "   - **Classification**:  \n",
    "     Train `LogisticRegression` to predict `cash_win` from lineup features.  \n",
    "     - Save coefficients as `logit_weights.csv`.  \n"
   ]
  },
  {
   "cell_type": "code",
   "execution_count": null,
   "id": "adcc2271",
   "metadata": {},
   "outputs": [],
   "source": []
  },
  {
   "cell_type": "code",
   "execution_count": null,
   "id": "0619a56b",
   "metadata": {},
   "outputs": [],
   "source": []
  },
  {
   "cell_type": "markdown",
   "id": "cf2aff92",
   "metadata": {},
   "source": [
    "\n",
    "4. **[Evaluation]**:  \n",
    "   - Compare correlation of `Points` prediction vs actual `Points`.  \n",
    "   - Compare correlation of `cash_win` prediction vs actual `cash_win`.  \n",
    "   - Evaluate improvement over:  \n",
    "     - Raw `sum_projpts`.  \n",
    "     - Baseline rating (`0.5*projown + 0.5*projpts`).  \n"
   ]
  },
  {
   "cell_type": "code",
   "execution_count": null,
   "id": "20fa6fd1",
   "metadata": {},
   "outputs": [],
   "source": []
  },
  {
   "cell_type": "markdown",
   "id": "dc5a9516",
   "metadata": {},
   "source": [
    "\n",
    "5. **[Output]**:  \n",
    "   - Save final DataFrame with best `lineup_rating` to `final_entries.csv`.  \n",
    "   - Generate plots:  \n",
    "     - Feature importance for `cash_win` prediction.  \n",
    "     - Actual vs predicted `Points`.  \n",
    "\n",
    "**Coding Language**: Python (Pandas, Scikit-learn, NumPy).  \n",
    "**Goal**: Derive optimal lineup rating for cash-game success."
   ]
  }
 ],
 "metadata": {
  "kernelspec": {
   "display_name": "FantasySports_py3_12_3",
   "language": "python",
   "name": "python3"
  },
  "language_info": {
   "codemirror_mode": {
    "name": "ipython",
    "version": 3
   },
   "file_extension": ".py",
   "mimetype": "text/x-python",
   "name": "python",
   "nbconvert_exporter": "python",
   "pygments_lexer": "ipython3",
   "version": "3.12.3"
  }
 },
 "nbformat": 4,
 "nbformat_minor": 5
}
